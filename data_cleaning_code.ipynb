{
 "cells": [
  {
   "cell_type": "code",
   "execution_count": null,
   "metadata": {},
   "outputs": [],
   "source": [
    "import pandas as pd\n",
    "import matplotlib.pyplot as plt\n",
    "import numpy as np\n",
    "from sklearn.impute import KNNImputer\n",
    "df=pd.read_csv(\"C:/Users/USER/Desktop/cars_data.csv\")\n",
    "df.shape[0]\n",
    "df"
   ]
  },
  {
   "cell_type": "markdown",
   "metadata": {},
   "source": [
    "We have 7777 rows of data that contain a lot of columns that are totally useless because all of its columns are NaN so we need to drop them"
   ]
  },
  {
   "cell_type": "markdown",
   "metadata": {},
   "source": [
    "Drop All the rows that all of its data are NaN , After that we have reached to 6864 data rows instead of 7777 "
   ]
  },
  {
   "cell_type": "code",
   "execution_count": null,
   "metadata": {},
   "outputs": [],
   "source": [
    "df=df.dropna(how='all')\n",
    "df.shape[0]\n",
    "\n"
   ]
  },
  {
   "cell_type": "code",
   "execution_count": null,
   "metadata": {},
   "outputs": [],
   "source": [
    "df.isna().any()\n",
    "percentage_of_missing_data=df.isna().sum()/df.shape[0]\n",
    "percentage_of_missing_data\n"
   ]
  },
  {
   "cell_type": "markdown",
   "metadata": {},
   "source": [
    "Printing the Percentage of the missing data \n"
   ]
  },
  {
   "cell_type": "code",
   "execution_count": null,
   "metadata": {},
   "outputs": [],
   "source": [
    "percentage_of_missing_data=df.isna().sum()/df.shape[0]\n",
    "percentage_of_missing_data.plot(kind='bar', color='skyblue', edgecolor='black')\n",
    "plt.xlabel('Columns')\n",
    "plt.ylabel('Percentage of Missing Data')\n",
    "plt.title('Percentage of Missing Data in Each Feature')\n",
    "\n",
    "plt.show()"
   ]
  },
  {
   "cell_type": "code",
   "execution_count": null,
   "metadata": {},
   "outputs": [],
   "source": [
    "import re\n",
    "\n",
    "def convert_to_numeric(data):\n",
    "    numbers = re.findall(r'\\d+', str(data))   \n",
    "    return sum(map(int, numbers)) if numbers else np.nan\n",
    "\n",
    "df['عدد الركاب'] = df['عدد الركاب'].apply(convert_to_numeric)\n",
    "df"
   ]
  },
  {
   "cell_type": "code",
   "execution_count": null,
   "metadata": {},
   "outputs": [],
   "source": [
    "df[\"عدد الركاب\"].isna().sum()\n"
   ]
  },
  {
   "cell_type": "code",
   "execution_count": null,
   "metadata": {},
   "outputs": [],
   "source": [
    "column_to_process = df[['عدد الركاب']]\n",
    "model=KNNImputer(n_neighbors=1000)\n",
    "new_data = model.fit_transform(column_to_process)\n",
    "df['عدد الركاب'] = new_data\n",
    "df['عدد الركاب'] = np.floor(df['عدد الركاب']).astype(int)\n",
    "\n",
    "df\n"
   ]
  },
  {
   "cell_type": "code",
   "execution_count": null,
   "metadata": {},
   "outputs": [],
   "source": [
    "car_size=df.groupby('عدد الركاب').size().reset_index(name=\"count\")\n",
    "car_size"
   ]
  },
  {
   "cell_type": "code",
   "execution_count": null,
   "metadata": {},
   "outputs": [],
   "source": [
    "df[\"إضافات\"]=df[\"إضافات\"].fillna(\"\")\n",
    "df[\"فتحة سقف\"]=df[\"إضافات\"].apply(lambda x: 1 if \"فتحة سقف\" in x else 0)\n",
    "df=df.drop(columns=[\"إضافات\"])\n",
    "df"
   ]
  },
  {
   "cell_type": "markdown",
   "metadata": {},
   "source": [
    "Dropping the \"معروضة\" column"
   ]
  },
  {
   "cell_type": "code",
   "execution_count": null,
   "metadata": {},
   "outputs": [],
   "source": [
    "df=df.drop(columns=[\"معروضة\", \"وسيلة الدفع\"])\n",
    "df"
   ]
  },
  {
   "cell_type": "code",
   "execution_count": null,
   "metadata": {},
   "outputs": [],
   "source": []
  },
  {
   "cell_type": "code",
   "execution_count": null,
   "metadata": {},
   "outputs": [],
   "source": []
  }
 ],
 "metadata": {
  "kernelspec": {
   "display_name": "Python 3",
   "language": "python",
   "name": "python3"
  },
  "language_info": {
   "codemirror_mode": {
    "name": "ipython",
    "version": 3
   },
   "file_extension": ".py",
   "mimetype": "text/x-python",
   "name": "python",
   "nbconvert_exporter": "python",
   "pygments_lexer": "ipython3",
   "version": "3.11.6"
  }
 },
 "nbformat": 4,
 "nbformat_minor": 2
}
