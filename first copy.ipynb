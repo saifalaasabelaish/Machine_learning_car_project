{
 "cells": [
  {
   "cell_type": "code",
   "execution_count": 61,
   "metadata": {},
   "outputs": [],
   "source": [
    "from bs4 import BeautifulSoup\n",
    "import pandas as pd\n",
    "import os\n",
    "\n"
   ]
  },
  {
   "cell_type": "code",
   "execution_count": 62,
   "metadata": {},
   "outputs": [],
   "source": [
    "file_path = \"C:/Users/USER/Desktop/500118.txt\"\n",
    "output_csv_path = 'C:/Users/USER/Desktop/output_data.csv'\n",
    "test_folder_path=\"C:/Users/USER/Desktop/testing-data\"\n",
    "\n"
   ]
  },
  {
   "cell_type": "code",
   "execution_count": 63,
   "metadata": {},
   "outputs": [],
   "source": [
    "file_list = os.listdir(test_folder_path)\n",
    "\n"
   ]
  },
  {
   "cell_type": "code",
   "execution_count": 64,
   "metadata": {},
   "outputs": [],
   "source": [
    "for file_name in file_list:\n",
    "    file_path = os.path.join(test_folder_path, file_name)\n",
    "    \n",
    "    with open(file_path, 'r', encoding='utf-8') as file:\n",
    "        html_content = file.read()\n",
    "        soup = BeautifulSoup(html_content, 'html.parser')"
   ]
  },
  {
   "cell_type": "code",
   "execution_count": 65,
   "metadata": {},
   "outputs": [],
   "source": [
    "\n",
    "def get_price():\n",
    "    car_price = soup.findAll('h5', class_='post-price')\n",
    "\n",
    "    if car_price:\n",
    "        price = car_price.text.strip().split()[0]\n",
    "    else:\n",
    "        price = None\n",
    "    return price \n",
    "\n",
    "def get_model():\n",
    "    car_model_tag = soup.find(\"table\", class_=\"driving-table\").find(\"h3\")\n",
    "    \n",
    "    if car_model_tag:\n",
    "        model = car_model_tag.text.strip()\n",
    "    else:\n",
    "        model = None\n",
    "    \n",
    "    return model\n",
    "\n",
    "def get_year():\n",
    "    car_year_tag = soup.find(\"table\", class_=\"driving-table\").find(\"h5\")\n",
    "    \n",
    "    if car_year_tag:\n",
    "        car_year_text = car_year_tag.text.strip()\n",
    "        car_year = ''.join(filter(str.isdigit, car_year_text))\n",
    "    else:\n",
    "        car_year = None\n",
    "    \n",
    "    return car_year\n",
    "\n",
    "def get_car_attributes():\n",
    "    car_attributes = {}\n",
    "\n",
    "    rows = soup.find_all('tr', class_='list-row')\n",
    "\n",
    "    for row in rows[:-3]:\n",
    "        columns = row.find_all('td')\n",
    "    \n",
    "        if len(columns) == 2:\n",
    "            attribute = columns[0].text.strip()\n",
    "            value = columns[1].text.strip()\n",
    "            car_attributes[attribute] = value\n",
    "\n",
    "    return car_attributes\n"
   ]
  },
  {
   "cell_type": "code",
   "execution_count": 71,
   "metadata": {},
   "outputs": [
    {
     "name": "stdout",
     "output_type": "stream",
     "text": [
      "43500\n"
     ]
    }
   ],
   "source": [
    "# Get data from functions\n",
    "price = get_price()\n",
    "model = get_model()\n",
    "year = get_year()\n",
    "car_attributes = get_car_attributes()\n"
   ]
  },
  {
   "cell_type": "code",
   "execution_count": 67,
   "metadata": {},
   "outputs": [
    {
     "data": {
      "text/html": [
       "<div>\n",
       "<style scoped>\n",
       "    .dataframe tbody tr th:only-of-type {\n",
       "        vertical-align: middle;\n",
       "    }\n",
       "\n",
       "    .dataframe tbody tr th {\n",
       "        vertical-align: top;\n",
       "    }\n",
       "\n",
       "    .dataframe thead th {\n",
       "        text-align: right;\n",
       "    }\n",
       "</style>\n",
       "<table border=\"1\" class=\"dataframe\">\n",
       "  <thead>\n",
       "    <tr style=\"text-align: right;\">\n",
       "      <th></th>\n",
       "      <th>Price</th>\n",
       "      <th>Model</th>\n",
       "      <th>Year</th>\n",
       "      <th>لون السيارة</th>\n",
       "      <th>نوع الوقود</th>\n",
       "      <th>أصل السيارة</th>\n",
       "      <th>رخصة السيارة</th>\n",
       "      <th>نوع الجير</th>\n",
       "      <th>الزجاج</th>\n",
       "      <th>قوة الماتور</th>\n",
       "      <th>وسيلة الدفع</th>\n",
       "      <th>معروضة</th>\n",
       "      <th>إضافات</th>\n",
       "    </tr>\n",
       "  </thead>\n",
       "  <tbody>\n",
       "    <tr>\n",
       "      <th>0</th>\n",
       "      <td>43500</td>\n",
       "      <td>هونداي افانتي</td>\n",
       "      <td>2006</td>\n",
       "      <td>سكني</td>\n",
       "      <td>بنزين</td>\n",
       "      <td>خصوصي</td>\n",
       "      <td>فلسطينية</td>\n",
       "      <td>اوتوماتيك</td>\n",
       "      <td>الكتروني</td>\n",
       "      <td>1600</td>\n",
       "      <td>نقدا فقط</td>\n",
       "      <td>للبيع فقط</td>\n",
       "      <td>مُكيّف\\nإغلاق مركزي\\nجهاز إنذار\\nمسجل CD\\nجنطا...</td>\n",
       "    </tr>\n",
       "  </tbody>\n",
       "</table>\n",
       "</div>"
      ],
      "text/plain": [
       "   Price          Model  Year لون السيارة نوع الوقود أصل السيارة رخصة السيارة  \\\n",
       "0  43500  هونداي افانتي  2006        سكني      بنزين       خصوصي     فلسطينية   \n",
       "\n",
       "   نوع الجير    الزجاج قوة الماتور وسيلة الدفع     معروضة  \\\n",
       "0  اوتوماتيك  الكتروني        1600    نقدا فقط  للبيع فقط   \n",
       "\n",
       "                                              إضافات  \n",
       "0  مُكيّف\\nإغلاق مركزي\\nجهاز إنذار\\nمسجل CD\\nجنطا...  "
      ]
     },
     "execution_count": 67,
     "metadata": {},
     "output_type": "execute_result"
    }
   ],
   "source": [
    "\n",
    "# Create a DataFrame with a single row\n",
    "data = {\n",
    "    \"Price\": [price],\n",
    "    \"Model\": [model],\n",
    "    \"Year\": [year],\n",
    "    **car_attributes\n",
    "}\n",
    "\n",
    "df = pd.DataFrame(data)\n",
    "df.to_csv(output_csv_path, index=False, encoding='utf-16')\n",
    "df"
   ]
  }
 ],
 "metadata": {
  "kernelspec": {
   "display_name": "Python 3",
   "language": "python",
   "name": "python3"
  },
  "language_info": {
   "codemirror_mode": {
    "name": "ipython",
    "version": 3
   },
   "file_extension": ".py",
   "mimetype": "text/x-python",
   "name": "python",
   "nbconvert_exporter": "python",
   "pygments_lexer": "ipython3",
   "version": "3.11.6"
  }
 },
 "nbformat": 4,
 "nbformat_minor": 2
}
